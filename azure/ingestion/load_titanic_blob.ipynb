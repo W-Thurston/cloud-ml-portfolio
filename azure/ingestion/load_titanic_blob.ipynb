{
 "cells": [
  {
   "cell_type": "code",
   "execution_count": null,
   "id": "a84271e5",
   "metadata": {
    "vscode": {
     "languageId": "plaintext"
    }
   },
   "outputs": [],
   "source": [
    "from azure.storage.blob import BlobClient\n",
    "import pandas as pd\n",
    "\n",
    "blob = BlobClient.from_connection_string(\n",
    "    conn_str=\"DefaultEndpointsProtocol=https;AccountName=mlw1d2storage;...\",\n",
    "    container_name=\"titanic-data\",\n",
    "    blob_name=\"titanic.csv\"\n",
    ")\n",
    "\n",
    "stream = blob.download_blob()\n",
    "df = pd.read_csv(stream)\n",
    "df.head()\n"
   ]
  }
 ],
 "metadata": {
  "language_info": {
   "name": "python"
  }
 },
 "nbformat": 4,
 "nbformat_minor": 5
}
