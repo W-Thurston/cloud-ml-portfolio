{
 "cells": [
  {
   "cell_type": "code",
   "execution_count": null,
   "id": "86413867",
   "metadata": {},
   "outputs": [],
   "source": [
    "from pymongo import MongoClient"
   ]
  },
  {
   "cell_type": "code",
   "execution_count": null,
   "id": "d5aecef3",
   "metadata": {},
   "outputs": [],
   "source": [
    "client = MongoClient(\"your-connection-string\")\n",
    "db = client[\"titanicdb\"]\n",
    "collection = db[\"passengers\"]"
   ]
  },
  {
   "cell_type": "code",
   "execution_count": null,
   "id": "d3ae21d9",
   "metadata": {},
   "outputs": [],
   "source": [
    "# Insert documents\n",
    "collection.insert_many([\n",
    "    {\"name\": \"John Doe\", \"survived\": 0, \"pclass\": 3, \"sex\": \"male\", \"age\": 35},\n",
    "    {\"name\": \"Jane Doe\", \"survived\": 1, \"pclass\": 1, \"sex\": \"female\", \"age\": 28}\n",
    "])\n"
   ]
  },
  {
   "cell_type": "code",
   "execution_count": null,
   "id": "ca273f77",
   "metadata": {},
   "outputs": [],
   "source": [
    "# Query documents\n",
    "for doc in collection.find({\"survived\": 1}):\n",
    "    print(doc)"
   ]
  },
  {
   "cell_type": "code",
   "execution_count": null,
   "id": "982cb700",
   "metadata": {},
   "outputs": [],
   "source": []
  }
 ],
 "metadata": {
  "kernelspec": {
   "display_name": "7clouds-env",
   "language": "python",
   "name": "python3"
  },
  "language_info": {
   "codemirror_mode": {
    "name": "ipython",
    "version": 3
   },
   "file_extension": ".py",
   "mimetype": "text/x-python",
   "name": "python",
   "nbconvert_exporter": "python",
   "pygments_lexer": "ipython3",
   "version": "3.12.3"
  }
 },
 "nbformat": 4,
 "nbformat_minor": 5
}
