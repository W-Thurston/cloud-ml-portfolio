{
 "cells": [
  {
   "cell_type": "code",
   "execution_count": 1,
   "id": "8330efb6-b90f-4252-a220-15e3f06af6a0",
   "metadata": {
    "execution": {
     "iopub.execute_input": "2025-04-22T19:32:33.650146Z",
     "iopub.status.busy": "2025-04-22T19:32:33.649543Z",
     "iopub.status.idle": "2025-04-22T19:34:38.301859Z",
     "shell.execute_reply": "2025-04-22T19:34:38.300733Z",
     "shell.execute_reply.started": "2025-04-22T19:32:33.650122Z"
    }
   },
   "outputs": [
    {
     "name": "stderr",
     "output_type": "stream",
     "text": [
      "Exception ignored in: <bound method IPythonKernel._clean_thread_parent_frames of <ipykernel.ipkernel.IPythonKernel object at 0x7fdbe91df990>>\n",
      "Traceback (most recent call last):\n",
      "  File \"/opt/conda/lib/python3.11/site-packages/ipykernel/ipkernel.py\", line 775, in _clean_thread_parent_frames\n",
      "    def _clean_thread_parent_frames(\n",
      "\n",
      "KeyboardInterrupt: \n",
      "\n",
      "KeyboardInterrupt\n",
      "\n"
     ]
    }
   ],
   "source": [
    "import boto3\n",
    "import pandas as pd\n",
    "\n",
    "bucket = 'ml-titanic-w1d1-wthurston'  # replace with your actual bucket name\n",
    "key = 'data/titanic.csv'\n",
    "\n",
    "s3 = boto3.client('s3')\n",
    "obj = s3.get_object(Bucket=bucket, Key=key)\n",
    "\n",
    "df = pd.read_csv(obj['Body'])\n",
    "df.head()\n"
   ]
  },
  {
   "cell_type": "code",
   "execution_count": 1,
   "id": "0bd7b53b-5462-43e1-883a-9388789d5505",
   "metadata": {
    "execution": {
     "iopub.execute_input": "2025-04-22T19:42:07.542274Z",
     "iopub.status.busy": "2025-04-22T19:42:07.541753Z",
     "iopub.status.idle": "2025-04-22T19:44:38.915967Z",
     "shell.execute_reply": "2025-04-22T19:44:38.914939Z",
     "shell.execute_reply.started": "2025-04-22T19:42:07.542239Z"
    }
   },
   "outputs": [
    {
     "name": "stderr",
     "output_type": "stream",
     "text": [
      "\n",
      "KeyboardInterrupt\n",
      "\n"
     ]
    }
   ],
   "source": [
    "import boto3\n",
    "\n",
    "s3 = boto3.client(\"s3\")\n",
    "bucket = \"ml-titanic-w1d1-yourname\"  # <- update this\n",
    "key = \"data/titanic.csv\"\n",
    "\n",
    "try:\n",
    "    response = s3.head_object(Bucket=bucket, Key=key)\n",
    "    print(\"✅ File found in S3!\")\n",
    "except Exception as e:\n",
    "    print(\"❌ Failed to access file:\")\n",
    "    print(e)\n"
   ]
  },
  {
   "cell_type": "code",
   "execution_count": 1,
   "id": "4e9b0a2c-76c5-4a9e-b72e-44d690d5e58c",
   "metadata": {
    "execution": {
     "iopub.execute_input": "2025-04-22T19:49:17.349271Z",
     "iopub.status.busy": "2025-04-22T19:49:17.348817Z",
     "iopub.status.idle": "2025-04-22T19:49:17.353127Z",
     "shell.execute_reply": "2025-04-22T19:49:17.352291Z",
     "shell.execute_reply.started": "2025-04-22T19:49:17.349242Z"
    }
   },
   "outputs": [],
   "source": [
    "import boto3"
   ]
  },
  {
   "cell_type": "code",
   "execution_count": 2,
   "id": "89b359ee-2620-4263-900d-fdc126d6ebc6",
   "metadata": {
    "execution": {
     "iopub.execute_input": "2025-04-22T19:49:19.175620Z",
     "iopub.status.busy": "2025-04-22T19:49:19.175178Z",
     "iopub.status.idle": "2025-04-22T19:49:19.266108Z",
     "shell.execute_reply": "2025-04-22T19:49:19.265322Z",
     "shell.execute_reply.started": "2025-04-22T19:49:19.175597Z"
    }
   },
   "outputs": [],
   "source": [
    "s3 = boto3.client(\"s3\")"
   ]
  },
  {
   "cell_type": "code",
   "execution_count": 3,
   "id": "9d8299ae-f330-447e-8883-ef8d92b2bfd3",
   "metadata": {
    "execution": {
     "iopub.execute_input": "2025-04-22T19:49:19.895441Z",
     "iopub.status.busy": "2025-04-22T19:49:19.894793Z",
     "iopub.status.idle": "2025-04-22T19:49:20.166621Z",
     "shell.execute_reply": "2025-04-22T19:49:20.165866Z",
     "shell.execute_reply.started": "2025-04-22T19:49:19.895414Z"
    }
   },
   "outputs": [
    {
     "name": "stdout",
     "output_type": "stream",
     "text": [
      "❌ Cannot list buckets:\n",
      "An error occurred (AccessDenied) when calling the ListBuckets operation: User: arn:aws:sts::825031615871:assumed-role/datazone_usr_role_4izlpjglubkenb_d1r39i7hj2e8fb/SageMaker is not authorized to perform: s3:ListAllMyBuckets because no identity-based policy allows the s3:ListAllMyBuckets action\n"
     ]
    }
   ],
   "source": [
    "try:\n",
    "    response = s3.list_buckets()\n",
    "    for bucket in response['Buckets']:\n",
    "        print(bucket['Name'])\n",
    "except Exception as e:\n",
    "    print(\"❌ Cannot list buckets:\")\n",
    "    print(e)"
   ]
  },
  {
   "cell_type": "code",
   "execution_count": null,
   "id": "4d046bc2-dd82-474c-a4fc-ee39a5b65d0a",
   "metadata": {},
   "outputs": [],
   "source": []
  }
 ],
 "metadata": {
  "kernelspec": {
   "display_name": "Python 3 (ipykernel)",
   "language": "python",
   "name": "python3"
  },
  "language_info": {
   "codemirror_mode": {
    "name": "ipython",
    "version": 3
   },
   "file_extension": ".py",
   "mimetype": "text/x-python",
   "name": "python",
   "nbconvert_exporter": "python",
   "pygments_lexer": "ipython3",
   "version": "3.11.11"
  }
 },
 "nbformat": 4,
 "nbformat_minor": 5
}
