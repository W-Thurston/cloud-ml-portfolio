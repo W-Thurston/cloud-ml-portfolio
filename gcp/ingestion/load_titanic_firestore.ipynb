{
 "cells": [
  {
   "cell_type": "code",
   "execution_count": null,
   "id": "451432cb",
   "metadata": {},
   "outputs": [],
   "source": [
    "from google.cloud import firestore\n",
    "from google.oauth2 import service_account"
   ]
  },
  {
   "cell_type": "code",
   "execution_count": null,
   "id": "cb38d93b",
   "metadata": {},
   "outputs": [],
   "source": [
    "# Automatically uses GOOGLE_APPLICATION_CREDENTIALS if set\n",
    "creds = service_account.Credentials.from_service_account_file(\n",
    "    \"../your_cloud_project_id-service-account.json\"\n",
    ")\n",
    "\n",
    "db = firestore.Client(credentials=creds, project=\"your_cloud_project_id\")\n",
    "print(\"✅ Connected to Firestore\")\n",
    "\n",
    "collection = db.collection(\"passengers\")"
   ]
  },
  {
   "cell_type": "code",
   "execution_count": null,
   "id": "adc1f90f",
   "metadata": {},
   "outputs": [],
   "source": [
    "# Insert documents\n",
    "collection.add({\n",
    "    \"name\": \"John Doe\",\n",
    "    \"survived\": 0,\n",
    "    \"pclass\": 3,\n",
    "    \"sex\": \"male\",\n",
    "    \"age\": 35\n",
    "})\n",
    "\n",
    "collection.add({\n",
    "    \"name\": \"Jane Doe\",\n",
    "    \"survived\": 1,\n",
    "    \"pclass\": 1,\n",
    "    \"sex\": \"female\",\n",
    "    \"age\": 28\n",
    "})"
   ]
  },
  {
   "cell_type": "code",
   "execution_count": null,
   "id": "688785f6",
   "metadata": {},
   "outputs": [],
   "source": [
    "docs = collection.where(\"survived\", \"==\", 1).stream()\n",
    "for doc in docs:\n",
    "    print(doc.to_dict())"
   ]
  },
  {
   "cell_type": "code",
   "execution_count": null,
   "id": "bf868443",
   "metadata": {},
   "outputs": [],
   "source": [
    "# delete all docs\n",
    "docs = db.collection(\"passengers\").stream()\n",
    "for doc in docs:\n",
    "    doc.reference.delete()\n"
   ]
  },
  {
   "cell_type": "code",
   "execution_count": null,
   "id": "a07f00ca",
   "metadata": {},
   "outputs": [],
   "source": []
  }
 ],
 "metadata": {
  "kernelspec": {
   "display_name": "7clouds-env",
   "language": "python",
   "name": "python3"
  },
  "language_info": {
   "codemirror_mode": {
    "name": "ipython",
    "version": 3
   },
   "file_extension": ".py",
   "mimetype": "text/x-python",
   "name": "python",
   "nbconvert_exporter": "python",
   "pygments_lexer": "ipython3",
   "version": "3.12.3"
  }
 },
 "nbformat": 4,
 "nbformat_minor": 5
}
